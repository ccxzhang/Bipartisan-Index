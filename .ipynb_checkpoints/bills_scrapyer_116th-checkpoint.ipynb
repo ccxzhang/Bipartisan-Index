{
 "cells": [
  {
   "cell_type": "code",
   "execution_count": 17,
   "metadata": {},
   "outputs": [],
   "source": [
    "## Import packages\n",
    "import json\n",
    "import csv\n",
    "import requests\n",
    "import re\n",
    "from bs4 import BeautifulSoup"
   ]
  },
  {
   "cell_type": "code",
   "execution_count": 20,
   "metadata": {},
   "outputs": [
    {
     "data": {
      "text/plain": [
       "200"
      ]
     },
     "execution_count": 20,
     "metadata": {},
     "output_type": "execute_result"
    }
   ],
   "source": [
    "url= \"https://www.govtrack.us/congress/bills/116/s1/json\"\n",
    "page= requests.get(url)\n",
    "page.status_code"
   ]
  },
  {
   "cell_type": "code",
   "execution_count": 28,
   "metadata": {},
   "outputs": [
    {
     "data": {
      "text/plain": [
       "'2019-01-03'"
      ]
     },
     "execution_count": 28,
     "metadata": {},
     "output_type": "execute_result"
    }
   ],
   "source": [
    "data= json.loads(page.content)\n",
    "str(data['introduced_date'])"
   ]
  },
  {
   "cell_type": "code",
   "execution_count": 29,
   "metadata": {},
   "outputs": [
    {
     "ename": "SyntaxError",
     "evalue": "invalid syntax (<ipython-input-29-f46d8dd2654a>, line 28)",
     "output_type": "error",
     "traceback": [
      "\u001b[0;36m  File \u001b[0;32m\"<ipython-input-29-f46d8dd2654a>\"\u001b[0;36m, line \u001b[0;32m28\u001b[0m\n\u001b[0;31m    date= str(data['introduced_date'])\u001b[0m\n\u001b[0m    ^\u001b[0m\n\u001b[0;31mSyntaxError\u001b[0m\u001b[0;31m:\u001b[0m invalid syntax\n"
     ]
    }
   ],
   "source": [
    "def senate_bill_scrapyer():\n",
    "    '''\n",
    "    The function is to scrape senate bills from govtrack.us. 5587 bills from senate\n",
    "    Input- \n",
    "    \n",
    "    \n",
    "    '''\n",
    "    with open('Index_Raw_Data.csv', 'w') as csv_out:\n",
    "        wr = csv.writer(csv_out, dialect='excel')\n",
    "        total= 6000\n",
    "        count= 1\n",
    "        while (count< total):\n",
    "            output= list()\n",
    "            cs_list= list()\n",
    "\n",
    "            url= 'https://www.govtrack.us/congress/bills/116/s' + str(count) + '/json'\n",
    "            page= requests.get(url)\n",
    "            print(url, page.status_code)\n",
    "        \n",
    "        \n",
    "            if (page.status_code== 200):\n",
    "                data= json.loads(page.content)\n",
    "                \n",
    "                ## Extract bill and spsonsor id data\n",
    "                title = str(data['title'])\n",
    "                bill_id= str(data['display_number']) \n",
    "                sponsor= str(data['sponsor']['bioguideid']\n",
    "                date= str(data['introduced_date'])\n",
    "                \n",
    "                output.append(bill_id)\n",
    "                output.append(sponsor)\n",
    "                \n",
    "                ## Check whether the bill is \n",
    "                if \"to designate\" in title and \"as the\" in title:\n",
    "                    output_list.append('EX02')\n",
    "                elif \"to name\" in title and \"as the\" in title:\n",
    "                    output_list.append('EX02')\n",
    "                elif \"grant\" in title and \"congressional gold medal\" in title:\n",
    "                    output_list.append('EX03')\n",
    "                elif \"congressional gold medal act\" in title:\n",
    "                    output_list.append('EX03')\n",
    "                elif \"award\" in title and \"congressional medal\" in title:\n",
    "                    output_list.append('EX03')\n",
    "                elif \"award\" in title and \"gold medal\" in title:\n",
    "                    output_list.append('EX03')\n",
    "                elif \"presentation\" in title and \"gold medal\" in title:\n",
    "                    output_list.append('EX03')\n",
    "                elif \"award\" in title and \"Medal of Honor\" in title:\n",
    "                    output_list.append('EX03')\n",
    "                elif \"Commemorative Coin\" in title:\n",
    "                    output_list.append('EX04')\n",
    "                elif \"Commemorative Medal\" in title:\n",
    "                    output_list.append('EX04')\n",
    "                elif \"award\" in title and \"military service medal\" in title:\n",
    "                    output_list.append('EX03')\n",
    "                \n",
    "                \n",
    "                else: \n",
    "                    num=0 \n",
    "                    while (num< len(data['cosponsors'])):\n",
    "                        cosponsor_id = (data['cosponsors'][num]['bioguideid'])\n",
    "                        cs_list.append(cosponsor_id)\n",
    "                        num+=1 \n",
    "            \n",
    "                    cs_list.sort()\n",
    "                output.extend(cs_list)\n",
    "            \n",
    "            # Write output to csv file as next row\n",
    "            wr.writerow(output)\n",
    "            count+= 1"
   ]
  },
  {
   "cell_type": "code",
   "execution_count": 19,
   "metadata": {},
   "outputs": [
    {
     "name": "stdout",
     "output_type": "stream",
     "text": [
      "https://www.govtrack.us/congress/bills/116/s1/json 200\n"
     ]
    },
    {
     "ename": "KeyError",
     "evalue": "'subjects'",
     "output_type": "error",
     "traceback": [
      "\u001b[0;31m---------------------------------------------------------------------------\u001b[0m",
      "\u001b[0;31mKeyError\u001b[0m                                  Traceback (most recent call last)",
      "\u001b[0;32m<ipython-input-19-c7bdf6754281>\u001b[0m in \u001b[0;36m<module>\u001b[0;34m\u001b[0m\n\u001b[0;32m----> 1\u001b[0;31m \u001b[0msenate_bill_scrapyer\u001b[0m\u001b[0;34m(\u001b[0m\u001b[0;34m)\u001b[0m\u001b[0;34m\u001b[0m\u001b[0;34m\u001b[0m\u001b[0m\n\u001b[0m",
      "\u001b[0;32m<ipython-input-5-4f7129dadb12>\u001b[0m in \u001b[0;36msenate_bill_scrapyer\u001b[0;34m()\u001b[0m\n\u001b[1;32m     26\u001b[0m                 \u001b[0mbill_id\u001b[0m\u001b[0;34m=\u001b[0m \u001b[0mstr\u001b[0m\u001b[0;34m(\u001b[0m\u001b[0mdata\u001b[0m\u001b[0;34m[\u001b[0m\u001b[0;34m'display_number'\u001b[0m\u001b[0;34m]\u001b[0m\u001b[0;34m)\u001b[0m\u001b[0;34m\u001b[0m\u001b[0;34m\u001b[0m\u001b[0m\n\u001b[1;32m     27\u001b[0m                 \u001b[0msponsor\u001b[0m\u001b[0;34m=\u001b[0m \u001b[0mstr\u001b[0m\u001b[0;34m(\u001b[0m\u001b[0mdata\u001b[0m\u001b[0;34m[\u001b[0m\u001b[0;34m'sponsor'\u001b[0m\u001b[0;34m]\u001b[0m\u001b[0;34m[\u001b[0m\u001b[0;34m'bioguideid'\u001b[0m\u001b[0;34m]\u001b[0m\u001b[0;34m)\u001b[0m\u001b[0;34m\u001b[0m\u001b[0;34m\u001b[0m\u001b[0m\n\u001b[0;32m---> 28\u001b[0;31m                 \u001b[0msubject\u001b[0m\u001b[0;34m=\u001b[0m \u001b[0mdata\u001b[0m\u001b[0;34m[\u001b[0m\u001b[0;34m'subjects'\u001b[0m\u001b[0;34m]\u001b[0m\u001b[0;34m\u001b[0m\u001b[0;34m\u001b[0m\u001b[0m\n\u001b[0m\u001b[1;32m     29\u001b[0m                 \u001b[0mshort_title\u001b[0m \u001b[0;34m=\u001b[0m \u001b[0mstr\u001b[0m\u001b[0;34m(\u001b[0m\u001b[0mdata\u001b[0m\u001b[0;34m[\u001b[0m\u001b[0;34m'short_title'\u001b[0m\u001b[0;34m]\u001b[0m\u001b[0;34m)\u001b[0m\u001b[0;34m\u001b[0m\u001b[0;34m\u001b[0m\u001b[0m\n\u001b[1;32m     30\u001b[0m \u001b[0;34m\u001b[0m\u001b[0m\n",
      "\u001b[0;31mKeyError\u001b[0m: 'subjects'"
     ]
    }
   ],
   "source": [
    "senate_bill_scrapyer()"
   ]
  },
  {
   "cell_type": "code",
   "execution_count": null,
   "metadata": {},
   "outputs": [],
   "source": []
  }
 ],
 "metadata": {
  "kernelspec": {
   "display_name": "Python 3",
   "language": "python",
   "name": "python3"
  },
  "language_info": {
   "codemirror_mode": {
    "name": "ipython",
    "version": 3
   },
   "file_extension": ".py",
   "mimetype": "text/x-python",
   "name": "python",
   "nbconvert_exporter": "python",
   "pygments_lexer": "ipython3",
   "version": "3.8.2"
  }
 },
 "nbformat": 4,
 "nbformat_minor": 4
}
