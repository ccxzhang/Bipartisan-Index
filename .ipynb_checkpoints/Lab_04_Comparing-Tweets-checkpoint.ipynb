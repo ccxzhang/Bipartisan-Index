{
 "cells": [
  {
   "cell_type": "markdown",
   "metadata": {},
   "source": [
    "# Lab 04 | PPOL564 \n",
    "# COMPARING TWEETS\n",
    "\n",
    "Let's play around with cosine similarity some more. This time we'll use `sklearn`'s implementation of the method."
   ]
  },
  {
   "cell_type": "code",
   "execution_count": 1,
   "metadata": {},
   "outputs": [],
   "source": [
    "import pandas as pd\n",
    "import numpy as np\n",
    "import re\n",
    "from sklearn.feature_extraction.text import CountVectorizer\n",
    "from sklearn.metrics.pairwise import cosine_similarity"
   ]
  },
  {
   "cell_type": "markdown",
   "metadata": {},
   "source": [
    "## Data\n",
    "\n",
    "Data from [Kaggle](https://www.kaggle.com/benhamner/clinton-trump-tweets). The dataset provides ~3000 recent tweets from Hillary Clinton and Donald Trump, the two major-party presidential nominees.\n",
    "\n",
    "![](https://www.kaggle.io/svf/377009/a6e6d9eeb0a7158b8f31498b1274c30b/clinton_vs_trump_retweets_and_favorites.png)"
   ]
  },
  {
   "cell_type": "code",
   "execution_count": 2,
   "metadata": {},
   "outputs": [
    {
     "data": {
      "text/html": [
       "<div>\n",
       "<style scoped>\n",
       "    .dataframe tbody tr th:only-of-type {\n",
       "        vertical-align: middle;\n",
       "    }\n",
       "\n",
       "    .dataframe tbody tr th {\n",
       "        vertical-align: top;\n",
       "    }\n",
       "\n",
       "    .dataframe thead th {\n",
       "        text-align: right;\n",
       "    }\n",
       "</style>\n",
       "<table border=\"1\" class=\"dataframe\">\n",
       "  <thead>\n",
       "    <tr style=\"text-align: right;\">\n",
       "      <th></th>\n",
       "      <th>handle</th>\n",
       "      <th>time</th>\n",
       "      <th>text</th>\n",
       "    </tr>\n",
       "  </thead>\n",
       "  <tbody>\n",
       "    <tr>\n",
       "      <th>0</th>\n",
       "      <td>HillaryClinton</td>\n",
       "      <td>2016-09-28T00:22:34</td>\n",
       "      <td>The question in this election: Who can put the...</td>\n",
       "    </tr>\n",
       "    <tr>\n",
       "      <th>1</th>\n",
       "      <td>HillaryClinton</td>\n",
       "      <td>2016-09-27T23:08:41</td>\n",
       "      <td>If we stand together, there's nothing we can't...</td>\n",
       "    </tr>\n",
       "    <tr>\n",
       "      <th>2</th>\n",
       "      <td>HillaryClinton</td>\n",
       "      <td>2016-09-27T22:30:27</td>\n",
       "      <td>Both candidates were asked about how they'd co...</td>\n",
       "    </tr>\n",
       "    <tr>\n",
       "      <th>3</th>\n",
       "      <td>realDonaldTrump</td>\n",
       "      <td>2016-09-27T22:13:24</td>\n",
       "      <td>Join me for a 3pm rally - tomorrow at the Mid-...</td>\n",
       "    </tr>\n",
       "    <tr>\n",
       "      <th>4</th>\n",
       "      <td>HillaryClinton</td>\n",
       "      <td>2016-09-27T21:35:28</td>\n",
       "      <td>This election is too important to sit out. Go ...</td>\n",
       "    </tr>\n",
       "  </tbody>\n",
       "</table>\n",
       "</div>"
      ],
      "text/plain": [
       "            handle                 time  \\\n",
       "0   HillaryClinton  2016-09-28T00:22:34   \n",
       "1   HillaryClinton  2016-09-27T23:08:41   \n",
       "2   HillaryClinton  2016-09-27T22:30:27   \n",
       "3  realDonaldTrump  2016-09-27T22:13:24   \n",
       "4   HillaryClinton  2016-09-27T21:35:28   \n",
       "\n",
       "                                                text  \n",
       "0  The question in this election: Who can put the...  \n",
       "1  If we stand together, there's nothing we can't...  \n",
       "2  Both candidates were asked about how they'd co...  \n",
       "3  Join me for a 3pm rally - tomorrow at the Mid-...  \n",
       "4  This election is too important to sit out. Go ...  "
      ]
     },
     "execution_count": 2,
     "metadata": {},
     "output_type": "execute_result"
    }
   ],
   "source": [
    "tweets = pd.read_csv(\"tweets.csv\")\n",
    "tweets.head()"
   ]
  },
  {
   "cell_type": "markdown",
   "metadata": {},
   "source": [
    "## Clean Text"
   ]
  },
  {
   "cell_type": "markdown",
   "metadata": {},
   "source": [
    "Let's focus on the Hillary Tweets. The text data needs to be organized as a list for the `sklearn` library. "
   ]
  },
  {
   "cell_type": "code",
   "execution_count": 3,
   "metadata": {},
   "outputs": [
    {
     "data": {
      "text/plain": [
       "['The question in this election: Who can put the plans into action that will make your life better? https://t.co/XreEY9OicG',\n",
       " \"If we stand together, there's nothing we can't do. \\n\\nMake sure you're ready to vote: https://t.co/tTgeqxNqYm https://t.co/Q3Ymbb7UNy\",\n",
       " \"Both candidates were asked about how they'd confront racial injustice. Only one had a real answer. https://t.co/sjnEokckis\"]"
      ]
     },
     "execution_count": 3,
     "metadata": {},
     "output_type": "execute_result"
    }
   ],
   "source": [
    "hillary_tweets = tweets.query('handle == \"HillaryClinton\"').text.values.tolist()\n",
    "\n",
    "# Print some of the tweets\n",
    "hillary_tweets[:3]"
   ]
  },
  {
   "cell_type": "code",
   "execution_count": 4,
   "metadata": {},
   "outputs": [
    {
     "data": {
      "text/plain": [
       "['The question in this election: Who can put the plans into action that will make your life better?',\n",
       " \"If we stand together, there's nothing we can't do. \\n\\nMake sure you're ready to vote:\",\n",
       " \"Both candidates were asked about how they'd confront racial injustice. Only one had a real answer.\"]"
      ]
     },
     "execution_count": 4,
     "metadata": {},
     "output_type": "execute_result"
    }
   ],
   "source": [
    "# Clean URLS from the text\n",
    "hillary_tweets = [re.sub(r'http\\S+', '', tweet).strip() for tweet in hillary_tweets]\n",
    "\n",
    "# Clean digits from the text\n",
    "hillary_tweets = [re.sub(r'\\d+', '', tweet).strip() for tweet in hillary_tweets]\n",
    "\n",
    "# Print some of the tweets\n",
    "hillary_tweets[:3]"
   ]
  },
  {
   "cell_type": "markdown",
   "metadata": {},
   "source": [
    "## Create the Document Term Matrix"
   ]
  },
  {
   "cell_type": "markdown",
   "metadata": {},
   "source": [
    "This time we'll use `sklearn` to generate the document term matrix rather than build it from scratch."
   ]
  },
  {
   "cell_type": "code",
   "execution_count": 5,
   "metadata": {},
   "outputs": [
    {
     "data": {
      "text/plain": [
       "<2629x4631 sparse matrix of type '<class 'numpy.int64'>'\n",
       "\twith 22385 stored elements in Compressed Sparse Row format>"
      ]
     },
     "execution_count": 5,
     "metadata": {},
     "output_type": "execute_result"
    }
   ],
   "source": [
    "# instantiate the object with auto english stop word detection\n",
    "count_vectorizer = CountVectorizer(stop_words='english')\n",
    "\n",
    "# \"fit\" the model (i.e. count the number of times words appear in each tweet)\n",
    "sparse_dtm = count_vectorizer.fit_transform(hillary_tweets)\n",
    "\n",
    "# Sparse document term matrix \n",
    "sparse_dtm "
   ]
  },
  {
   "cell_type": "markdown",
   "metadata": {},
   "source": [
    "`CountVectorizer()` will automatically create a document term matrix as a sparse matrix. This is useful when there are a lot of zeros in a matrix. \n",
    "\n",
    "But note that we can convert this back to the document term matrix that we're more familiar with. "
   ]
  },
  {
   "cell_type": "code",
   "execution_count": 6,
   "metadata": {},
   "outputs": [
    {
     "data": {
      "text/html": [
       "<div>\n",
       "<style scoped>\n",
       "    .dataframe tbody tr th:only-of-type {\n",
       "        vertical-align: middle;\n",
       "    }\n",
       "\n",
       "    .dataframe tbody tr th {\n",
       "        vertical-align: top;\n",
       "    }\n",
       "\n",
       "    .dataframe thead th {\n",
       "        text-align: right;\n",
       "    }\n",
       "</style>\n",
       "<table border=\"1\" class=\"dataframe\">\n",
       "  <thead>\n",
       "    <tr style=\"text-align: right;\">\n",
       "      <th></th>\n",
       "      <th>________</th>\n",
       "      <th>_bxddxss</th>\n",
       "      <th>abandon</th>\n",
       "      <th>abandoned</th>\n",
       "      <th>abbott</th>\n",
       "      <th>abierta</th>\n",
       "      <th>abilities</th>\n",
       "      <th>ability</th>\n",
       "      <th>able</th>\n",
       "      <th>abolish</th>\n",
       "      <th>...</th>\n",
       "      <th>youtube</th>\n",
       "      <th>zandi</th>\n",
       "      <th>zero</th>\n",
       "      <th>zika</th>\n",
       "      <th>zip</th>\n",
       "      <th>zones</th>\n",
       "      <th>él</th>\n",
       "      <th>única</th>\n",
       "      <th>únicos</th>\n",
       "      <th>⁰⁰</th>\n",
       "    </tr>\n",
       "  </thead>\n",
       "  <tbody>\n",
       "    <tr>\n",
       "      <th>0</th>\n",
       "      <td>0</td>\n",
       "      <td>0</td>\n",
       "      <td>0</td>\n",
       "      <td>0</td>\n",
       "      <td>0</td>\n",
       "      <td>0</td>\n",
       "      <td>0</td>\n",
       "      <td>0</td>\n",
       "      <td>0</td>\n",
       "      <td>0</td>\n",
       "      <td>...</td>\n",
       "      <td>0</td>\n",
       "      <td>0</td>\n",
       "      <td>0</td>\n",
       "      <td>0</td>\n",
       "      <td>0</td>\n",
       "      <td>0</td>\n",
       "      <td>0</td>\n",
       "      <td>0</td>\n",
       "      <td>0</td>\n",
       "      <td>0</td>\n",
       "    </tr>\n",
       "    <tr>\n",
       "      <th>1</th>\n",
       "      <td>0</td>\n",
       "      <td>0</td>\n",
       "      <td>0</td>\n",
       "      <td>0</td>\n",
       "      <td>0</td>\n",
       "      <td>0</td>\n",
       "      <td>0</td>\n",
       "      <td>0</td>\n",
       "      <td>0</td>\n",
       "      <td>0</td>\n",
       "      <td>...</td>\n",
       "      <td>0</td>\n",
       "      <td>0</td>\n",
       "      <td>0</td>\n",
       "      <td>0</td>\n",
       "      <td>0</td>\n",
       "      <td>0</td>\n",
       "      <td>0</td>\n",
       "      <td>0</td>\n",
       "      <td>0</td>\n",
       "      <td>0</td>\n",
       "    </tr>\n",
       "    <tr>\n",
       "      <th>2</th>\n",
       "      <td>0</td>\n",
       "      <td>0</td>\n",
       "      <td>0</td>\n",
       "      <td>0</td>\n",
       "      <td>0</td>\n",
       "      <td>0</td>\n",
       "      <td>0</td>\n",
       "      <td>0</td>\n",
       "      <td>0</td>\n",
       "      <td>0</td>\n",
       "      <td>...</td>\n",
       "      <td>0</td>\n",
       "      <td>0</td>\n",
       "      <td>0</td>\n",
       "      <td>0</td>\n",
       "      <td>0</td>\n",
       "      <td>0</td>\n",
       "      <td>0</td>\n",
       "      <td>0</td>\n",
       "      <td>0</td>\n",
       "      <td>0</td>\n",
       "    </tr>\n",
       "    <tr>\n",
       "      <th>3</th>\n",
       "      <td>0</td>\n",
       "      <td>0</td>\n",
       "      <td>0</td>\n",
       "      <td>0</td>\n",
       "      <td>0</td>\n",
       "      <td>0</td>\n",
       "      <td>0</td>\n",
       "      <td>0</td>\n",
       "      <td>0</td>\n",
       "      <td>0</td>\n",
       "      <td>...</td>\n",
       "      <td>0</td>\n",
       "      <td>0</td>\n",
       "      <td>0</td>\n",
       "      <td>0</td>\n",
       "      <td>0</td>\n",
       "      <td>0</td>\n",
       "      <td>0</td>\n",
       "      <td>0</td>\n",
       "      <td>0</td>\n",
       "      <td>0</td>\n",
       "    </tr>\n",
       "    <tr>\n",
       "      <th>4</th>\n",
       "      <td>0</td>\n",
       "      <td>0</td>\n",
       "      <td>0</td>\n",
       "      <td>0</td>\n",
       "      <td>0</td>\n",
       "      <td>0</td>\n",
       "      <td>0</td>\n",
       "      <td>0</td>\n",
       "      <td>0</td>\n",
       "      <td>0</td>\n",
       "      <td>...</td>\n",
       "      <td>0</td>\n",
       "      <td>0</td>\n",
       "      <td>0</td>\n",
       "      <td>0</td>\n",
       "      <td>0</td>\n",
       "      <td>0</td>\n",
       "      <td>0</td>\n",
       "      <td>0</td>\n",
       "      <td>0</td>\n",
       "      <td>0</td>\n",
       "    </tr>\n",
       "  </tbody>\n",
       "</table>\n",
       "<p>5 rows × 4631 columns</p>\n",
       "</div>"
      ],
      "text/plain": [
       "   ________  _bxddxss  abandon  abandoned  abbott  abierta  abilities  \\\n",
       "0         0         0        0          0       0        0          0   \n",
       "1         0         0        0          0       0        0          0   \n",
       "2         0         0        0          0       0        0          0   \n",
       "3         0         0        0          0       0        0          0   \n",
       "4         0         0        0          0       0        0          0   \n",
       "\n",
       "   ability  able  abolish ...  youtube  zandi  zero  zika  zip  zones  él  \\\n",
       "0        0     0        0 ...        0      0     0     0    0      0   0   \n",
       "1        0     0        0 ...        0      0     0     0    0      0   0   \n",
       "2        0     0        0 ...        0      0     0     0    0      0   0   \n",
       "3        0     0        0 ...        0      0     0     0    0      0   0   \n",
       "4        0     0        0 ...        0      0     0     0    0      0   0   \n",
       "\n",
       "   única  únicos  ⁰⁰  \n",
       "0      0       0   0  \n",
       "1      0       0   0  \n",
       "2      0       0   0  \n",
       "3      0       0   0  \n",
       "4      0       0   0  \n",
       "\n",
       "[5 rows x 4631 columns]"
      ]
     },
     "execution_count": 6,
     "metadata": {},
     "output_type": "execute_result"
    }
   ],
   "source": [
    "# Turn the sparse matrix into a dense matrix\n",
    "dtm = sparse_dtm .todense()\n",
    "\n",
    "# Convert to pandas data frame. Set the columns to the words (as we did)\n",
    "hillary_tweets_dtm = pd.DataFrame(dtm, columns=count_vectorizer.get_feature_names())\n",
    "hillary_tweets_dtm.head()"
   ]
  },
  {
   "cell_type": "markdown",
   "metadata": {},
   "source": [
    "## Refresh on cosine similarity "
   ]
  },
  {
   "cell_type": "markdown",
   "metadata": {},
   "source": [
    "Recall how we computed the cosine between two vectors from class:"
   ]
  },
  {
   "cell_type": "code",
   "execution_count": 7,
   "metadata": {},
   "outputs": [
    {
     "data": {
      "text/plain": [
       "0.8"
      ]
     },
     "execution_count": 7,
     "metadata": {},
     "output_type": "execute_result"
    }
   ],
   "source": [
    "a = np.array([1,2])\n",
    "b = np.array([2,1])\n",
    "\n",
    "# Manually calculate the cosine (as we did in class)\n",
    "(a.dot(b)/(np.linalg.norm(a)*np.linalg.norm(b))).round(1)"
   ]
  },
  {
   "cell_type": "markdown",
   "metadata": {},
   "source": [
    "Let's now gut check the `sklearn` implementation"
   ]
  },
  {
   "cell_type": "code",
   "execution_count": 8,
   "metadata": {},
   "outputs": [
    {
     "data": {
      "text/plain": [
       "array([[1, 2],\n",
       "       [2, 1]])"
      ]
     },
     "execution_count": 8,
     "metadata": {},
     "output_type": "execute_result"
    }
   ],
   "source": [
    "# Compute Cosine Similarity using sklearn\n",
    "M = np.vstack([a,b]) # Input must be a matrix\n",
    "M"
   ]
  },
  {
   "cell_type": "markdown",
   "metadata": {},
   "source": [
    "Output of sklearn's `cosine_similarity` is similar to a correlation matrix but with cosines!"
   ]
  },
  {
   "cell_type": "code",
   "execution_count": 9,
   "metadata": {},
   "outputs": [
    {
     "data": {
      "text/plain": [
       "array([[1. , 0.8],\n",
       "       [0.8, 1. ]])"
      ]
     },
     "execution_count": 9,
     "metadata": {},
     "output_type": "execute_result"
    }
   ],
   "source": [
    "cosine_similarity(M,M)"
   ]
  },
  {
   "cell_type": "markdown",
   "metadata": {},
   "source": [
    "## Similarity between Hillary Clinton's Tweets"
   ]
  },
  {
   "cell_type": "markdown",
   "metadata": {},
   "source": [
    "Let's now take this idea and apply it all of Hillary Clinton's Tweets."
   ]
  },
  {
   "cell_type": "code",
   "execution_count": 10,
   "metadata": {},
   "outputs": [
    {
     "data": {
      "text/plain": [
       "array([[1.        , 0.16903085, 0.        , ..., 0.        , 0.        ,\n",
       "        0.        ],\n",
       "       [0.16903085, 1.        , 0.        , ..., 0.        , 0.        ,\n",
       "        0.        ],\n",
       "       [0.        , 0.        , 1.        , ..., 0.        , 0.        ,\n",
       "        0.        ],\n",
       "       ...,\n",
       "       [0.        , 0.        , 0.        , ..., 1.        , 0.        ,\n",
       "        0.        ],\n",
       "       [0.        , 0.        , 0.        , ..., 0.        , 1.        ,\n",
       "        0.        ],\n",
       "       [0.        , 0.        , 0.        , ..., 0.        , 0.        ,\n",
       "        1.        ]])"
      ]
     },
     "execution_count": 10,
     "metadata": {},
     "output_type": "execute_result"
    }
   ],
   "source": [
    "cos_mat = cosine_similarity(hillary_tweets_dtm,hillary_tweets_dtm)\n",
    "cos_mat"
   ]
  },
  {
   "cell_type": "code",
   "execution_count": 11,
   "metadata": {},
   "outputs": [],
   "source": [
    "# Drop the diagonals (because of course a document is has perfect similarity with itself)\n",
    "np.fill_diagonal(cos_mat, np.nan) # let's set these all to Missing"
   ]
  },
  {
   "cell_type": "markdown",
   "metadata": {},
   "source": [
    "Which tweets are the most similar?"
   ]
  },
  {
   "cell_type": "code",
   "execution_count": 14,
   "metadata": {
    "scrolled": false
   },
   "outputs": [
    {
     "name": "stdout",
     "output_type": "stream",
     "text": [
      "----------------------------------------------------------------------------------------------------\n",
      "\t\t\tThere are 7.0 tweet pairs that share a cosine similarity of 0.8\n",
      "----------------------------------------------------------------------------------------------------\n",
      "\n",
      "        “The bottom line is that we can not afford suddenly to treat this like a reality show.” —@POTUS\n",
      "        \n",
      "        \"The bottom line is that we cannot afford suddenly to treat this like a reality show.” —@POTUS on the media’s coverage of Donald Trump\n",
      "        \n",
      "        ----\n",
      "    \n",
      "\n",
      "        \"The bottom line is that we cannot afford suddenly to treat this like a reality show.” —@POTUS on the media’s coverage of Donald Trump\n",
      "        \n",
      "        “The bottom line is that we can not afford suddenly to treat this like a reality show.” —@POTUS\n",
      "        \n",
      "        ----\n",
      "    \n",
      "\n",
      "        \"I believe there has never been a man or woman more qualified than Hillary Clinton to serve as our president.\" —@POTUS\n",
      "        \n",
      "        “There has never been a man or a woman more qualified than Hillary Clinton to serve as president of the United States of America.” —@POTUS\n",
      "        \n",
      "        ----\n",
      "    \n",
      "\n",
      "        Trump says \"you can't lead this nation if you have such a low opinion for its citizens.\"\n",
      "\n",
      "What Trump's also said:\n",
      "        \n",
      "        \"You can't lead this nation if you have such a low opinion for its citizens.\" —Donald Trump\n",
      "\n",
      "About that.\n",
      "        \n",
      "        ----\n",
      "    \n",
      "\n",
      "        \"You can't lead this nation if you have such a low opinion for its citizens.\" —Donald Trump\n",
      "\n",
      "About that.\n",
      "        \n",
      "        Trump says \"you can't lead this nation if you have such a low opinion for its citizens.\"\n",
      "\n",
      "What Trump's also said:\n",
      "        \n",
      "        ----\n",
      "    \n",
      "\n",
      "        “I have a very good brain.” —Donald Trump on his foreign policy advisors\n",
      "\n",
      "(Himself.)\n",
      "        \n",
      "        Donald Trump's foreign policy team: one \"very good brain\" with very thin skin.\n",
      "        \n",
      "        ----\n",
      "    \n",
      "\n",
      "        Donald Trump is totally unfit and unqualified to be president of the United States:\n",
      "        \n",
      "        Donald Trump is temperamentally unfit to be president of the United States.\n",
      "        \n",
      "        ----\n",
      "    \n",
      "\n",
      "        Donald Trump is temperamentally unfit to be president of the United States.\n",
      "        \n",
      "        Donald Trump is totally unfit and unqualified to be president of the United States:\n",
      "        \n",
      "        ----\n",
      "    \n",
      "\n",
      "        “There has never been a man or a woman more qualified than Hillary Clinton to serve as president of the United States of America.” —@POTUS\n",
      "        \n",
      "        \"I believe there has never been a man or woman more qualified than Hillary Clinton to serve as our president.\" —@POTUS\n",
      "        \n",
      "        ----\n",
      "    \n",
      "\n",
      "        Donald Trump's foreign policy team: one \"very good brain\" with very thin skin.\n",
      "        \n",
      "        “I have a very good brain.” —Donald Trump on his foreign policy advisors\n",
      "\n",
      "(Himself.)\n",
      "        \n",
      "        ----\n",
      "    \n",
      "\n",
      "        West Virginians, head to the polls today. RT this if you’re voting for Hillary.\n",
      "        \n",
      "        Hoosiers, head to the polls today. RT this if you’re voting for Hillary.\n",
      "        \n",
      "        ----\n",
      "    \n",
      "\n",
      "        Hoosiers, head to the polls today. RT this if you’re voting for Hillary.\n",
      "        \n",
      "        West Virginians, head to the polls today. RT this if you’re voting for Hillary.\n",
      "        \n",
      "        ----\n",
      "    \n",
      "\n",
      "        Hoosiers, head to the polls today. RT this if you’re voting for Hillary.\n",
      "        \n",
      "        New Yorkers head to the polls today. RT this if you’re voting for Hillary.\n",
      "        \n",
      "        ----\n",
      "    \n",
      "\n",
      "        New Yorkers head to the polls today. RT this if you’re voting for Hillary.\n",
      "        \n",
      "        Hoosiers, head to the polls today. RT this if you’re voting for Hillary.\n",
      "        \n",
      "        ----\n",
      "    \n"
     ]
    }
   ],
   "source": [
    "# Let's look at the similarity between tweets by setting some arbitrary threhold\n",
    "\n",
    "cosine_sim_threshold = .8 # Here the threshold at _exactly .80 degrees (so pretty similar!)\n",
    "\n",
    "# Scan through the cosine similarity matrix and find the col, row indices \n",
    "# for those entries that meet the threshold. (Note we're rounding so values \n",
    "# will perfectly match up).\n",
    "highly_similar_tweets = np.where(cos_mat.round(2) == cosine_sim_threshold) \n",
    "\n",
    "# How many tweet pairs are we talking about?\n",
    "n_pairs = len(highly_similar_tweets[0])/2\n",
    "\n",
    "# Let's print off a little message\n",
    "print(f\"{'----'*25}\\n\\t\\t\\tThere are {n_pairs} tweet pairs that share a cosine similarity of {cosine_sim_threshold}\\n{'----'*25}\")\n",
    "\n",
    "# Let's loop through indices and print of the similar pairs. \n",
    "for i in range(len(highly_similar_tweets[0])):\n",
    "    pos1 = highly_similar_tweets[0][i] # Move through the row positions\n",
    "    pos2 = highly_similar_tweets[1][i] # move through the column positions\n",
    "\n",
    "    print(f'''\n",
    "        {hillary_tweets[pos1]}\n",
    "        \n",
    "        {hillary_tweets[pos2]}\n",
    "        \n",
    "        ----\n",
    "    ''')"
   ]
  },
  {
   "cell_type": "markdown",
   "metadata": {},
   "source": [
    "# Now you try with Trump's Tweets!"
   ]
  },
  {
   "cell_type": "code",
   "execution_count": null,
   "metadata": {},
   "outputs": [],
   "source": []
  }
 ],
 "metadata": {
  "kernelspec": {
   "display_name": "Python 3",
   "language": "python",
   "name": "python3"
  },
  "language_info": {
   "codemirror_mode": {
    "name": "ipython",
    "version": 3
   },
   "file_extension": ".py",
   "mimetype": "text/x-python",
   "name": "python",
   "nbconvert_exporter": "python",
   "pygments_lexer": "ipython3",
   "version": "3.7.3"
  },
  "toc": {
   "base_numbering": 1,
   "nav_menu": {},
   "number_sections": false,
   "sideBar": false,
   "skip_h1_title": false,
   "title_cell": "Table of Contents",
   "title_sidebar": "Contents",
   "toc_cell": false,
   "toc_position": {},
   "toc_section_display": true,
   "toc_window_display": false
  }
 },
 "nbformat": 4,
 "nbformat_minor": 2
}
